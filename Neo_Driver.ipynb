{
 "cells": [
  {
   "cell_type": "code",
   "execution_count": 11,
   "id": "978425de",
   "metadata": {},
   "outputs": [
    {
     "name": "stdout",
     "output_type": "stream",
     "text": [
      "Collecting feather-format\n",
      "  Using cached feather-format-0.4.1.tar.gz (3.2 kB)\n",
      "Collecting pyarrow>=0.4.0\n",
      "  Using cached pyarrow-7.0.0-cp37-cp37m-win_amd64.whl (16.0 MB)\n",
      "Requirement already satisfied: numpy>=1.16.6 in c:\\users\\bprn\\anaconda3\\envs\\neo4j\\lib\\site-packages (from pyarrow>=0.4.0->feather-format) (1.21.5)\n",
      "Building wheels for collected packages: feather-format\n",
      "  Building wheel for feather-format (setup.py): started\n",
      "  Building wheel for feather-format (setup.py): finished with status 'done'\n",
      "  Created wheel for feather-format: filename=feather_format-0.4.1-py3-none-any.whl size=2456 sha256=6648a2bcd520a58a5d2db8befed571c1c07531daca6ea08999c3a22a77703a1c\n",
      "  Stored in directory: c:\\users\\bprn\\appdata\\local\\pip\\cache\\wheels\\6e\\3d\\05\\ebe8270ca366aa12810ee508ed4fac30d6343ac1584523f9ac\n",
      "Successfully built feather-format\n",
      "Installing collected packages: pyarrow, feather-format\n",
      "Successfully installed feather-format-0.4.1 pyarrow-7.0.0\n"
     ]
    }
   ],
   "source": [
    "! pip install feather-format"
   ]
  },
  {
   "cell_type": "code",
   "execution_count": 3,
   "id": "f9fcb7dd",
   "metadata": {},
   "outputs": [],
   "source": [
    "import feather\n",
    "import pandas as pd\n",
    "\n",
    "from py2neo import Graph"
   ]
  },
  {
   "cell_type": "code",
   "execution_count": 12,
   "id": "6857a6ca",
   "metadata": {},
   "outputs": [],
   "source": [
    "df = pd.read_csv('data/credit_transactions.csv')"
   ]
  },
  {
   "cell_type": "code",
   "execution_count": 14,
   "id": "4af7242a",
   "metadata": {},
   "outputs": [],
   "source": [
    "df.to_feather('data/credit_transactions.feather')"
   ]
  },
  {
   "cell_type": "markdown",
   "id": "46b213f3",
   "metadata": {},
   "source": [
    "## EDA"
   ]
  },
  {
   "cell_type": "code",
   "execution_count": null,
   "id": "27df18e0",
   "metadata": {},
   "outputs": [],
   "source": []
  },
  {
   "cell_type": "markdown",
   "id": "29bc7bac",
   "metadata": {},
   "source": [
    "## Connecting to SandBox"
   ]
  },
  {
   "cell_type": "code",
   "execution_count": 4,
   "id": "c147e0b1",
   "metadata": {},
   "outputs": [],
   "source": [
    "## Credentials\n",
    "#  bolt: bolt://3.95.245.105:7687\n",
    "#  username: neo4j\n",
    "#  password: hospital-inceptions-integrity\n",
    "\n",
    "graph = Graph(\"bolt://3.95.245.105:7687\", auth=(\"neo4j\", \"hospital-inceptions-integrity\"))"
   ]
  },
  {
   "cell_type": "code",
   "execution_count": 9,
   "id": "dcc4efa1",
   "metadata": {},
   "outputs": [
    {
     "data": {
      "text/html": [
       "<div>\n",
       "<style scoped>\n",
       "    .dataframe tbody tr th:only-of-type {\n",
       "        vertical-align: middle;\n",
       "    }\n",
       "\n",
       "    .dataframe tbody tr th {\n",
       "        vertical-align: top;\n",
       "    }\n",
       "\n",
       "    .dataframe thead th {\n",
       "        text-align: right;\n",
       "    }\n",
       "</style>\n",
       "<table border=\"1\" class=\"dataframe\">\n",
       "  <thead>\n",
       "    <tr style=\"text-align: right;\">\n",
       "      <th></th>\n",
       "    </tr>\n",
       "  </thead>\n",
       "  <tbody>\n",
       "  </tbody>\n",
       "</table>\n",
       "</div>"
      ],
      "text/plain": [
       "Empty DataFrame\n",
       "Columns: []\n",
       "Index: []"
      ]
     },
     "execution_count": 9,
     "metadata": {},
     "output_type": "execute_result"
    }
   ],
   "source": [
    "graph.run(\"\"\"MATCH (n) RETURN n\"\"\").to_data_frame()"
   ]
  },
  {
   "cell_type": "markdown",
   "id": "659afd3f",
   "metadata": {},
   "source": [
    "![title](img/picture.png)"
   ]
  },
  {
   "cell_type": "code",
   "execution_count": null,
   "id": "6bb07ab0",
   "metadata": {},
   "outputs": [],
   "source": []
  }
 ],
 "metadata": {
  "kernelspec": {
   "display_name": "Python 3 (ipykernel)",
   "language": "python",
   "name": "python3"
  },
  "language_info": {
   "codemirror_mode": {
    "name": "ipython",
    "version": 3
   },
   "file_extension": ".py",
   "mimetype": "text/x-python",
   "name": "python",
   "nbconvert_exporter": "python",
   "pygments_lexer": "ipython3",
   "version": "3.7.11"
  },
  "toc": {
   "base_numbering": 1,
   "nav_menu": {},
   "number_sections": true,
   "sideBar": true,
   "skip_h1_title": false,
   "title_cell": "Table of Contents",
   "title_sidebar": "Contents",
   "toc_cell": false,
   "toc_position": {},
   "toc_section_display": true,
   "toc_window_display": false
  }
 },
 "nbformat": 4,
 "nbformat_minor": 5
}
